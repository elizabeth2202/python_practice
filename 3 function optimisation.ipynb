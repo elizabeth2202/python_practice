{
 "cells": [
  {
   "cell_type": "markdown",
   "metadata": {},
   "source": [
    "## Задача 1. Минимизация гладкой функции\n",
    "Рассмотрим сложную математическую функцию на промежутке [1, 30]  \n",
    "\n",
    "$$ f(x) = \\sin(\\frac{x}{5}) \\cdot e^{\\frac{x}{10}} + 5 \\cdot e^{\\frac{-x}{2}} $$"
   ]
  },
  {
   "cell_type": "code",
   "execution_count": 46,
   "metadata": {},
   "outputs": [
    {
     "data": {
      "image/png": "[encoded data removed]",
      "text/plain": [
       "<Figure size 432x288 with 1 Axes>"
      ]
     },
     "metadata": {
      "needs_background": "light"
     },
     "output_type": "display_data"
    }
   ],
   "source": [
    "%matplotlib inline\n",
    "import numpy as np\n",
    "import matplotlib.pyplot as plt\n",
    "\n",
    "def f(x):\n",
    "    result = np.sin(x / 5.0) * np.exp(x / 10.0) + 5 * np.exp(-x / 2.0)\n",
    "    return result\n",
    "a = np.linspace(1, 30, 100) # генерируем 100 значений от 1 до 30 включительно\n",
    "y = f(a)\n",
    "plt.plot(a, y)\n",
    "plt.show()"
   ]
  },
  {
   "cell_type": "markdown",
   "metadata": {},
   "source": [
    "Попробуем найти минимум, используя стандартные параметры в функции `scipy.optimize.minimize` (т.е. задав только функцию и начальное приближение). Меняя начальное приближение можно изучить, меняется ли результат."
   ]
  },
  {
   "cell_type": "code",
   "execution_count": 16,
   "metadata": {},
   "outputs": [
    {
     "name": "stdout",
     "output_type": "stream",
     "text": [
      "      fun: -11.898894665979789\n",
      " hess_inv: array([[1.67276794]])\n",
      "      jac: array([1.43051147e-06])\n",
      "  message: 'Optimization terminated successfully.'\n",
      "     nfev: 12\n",
      "      nit: 3\n",
      "     njev: 4\n",
      "   status: 0\n",
      "  success: True\n",
      "        x: array([25.8801953])\n"
     ]
    }
   ],
   "source": [
    "from scipy import optimize\n",
    "print(optimize.minimize(f, 26))"
   ]
  },
  {
   "cell_type": "markdown",
   "metadata": {},
   "source": [
    "Укажем в `scipy.optimize.minimize` в качестве метода BFGS (один из самых точных в большинстве случаев градиентных методов оптимизации), запустим из начального приближения x=2. Градиент функции при этом указывать не нужно – он будет оценен численно."
   ]
  },
  {
   "cell_type": "code",
   "execution_count": 18,
   "metadata": {},
   "outputs": [
    {
     "name": "stdout",
     "output_type": "stream",
     "text": [
      "      fun: 1.7452682903449388\n",
      " hess_inv: array([[5.98752437]])\n",
      "      jac: array([-2.07126141e-06])\n",
      "  message: 'Optimization terminated successfully.'\n",
      "     nfev: 21\n",
      "      nit: 6\n",
      "     njev: 7\n",
      "   status: 0\n",
      "  success: True\n",
      "        x: array([4.13627618])\n"
     ]
    }
   ],
   "source": [
    "print(optimize.minimize(f, 2, method='BFGS'))"
   ]
  },
  {
   "cell_type": "markdown",
   "metadata": {},
   "source": [
    "Значение функции в точке минимума 4.13627618 равно 1.7452682903449388.  \n",
    "Теперь изменим начальное приближение на x=30."
   ]
  },
  {
   "cell_type": "code",
   "execution_count": 19,
   "metadata": {
    "scrolled": true
   },
   "outputs": [
    {
     "name": "stdout",
     "output_type": "stream",
     "text": [
      "      fun: -11.898894665981285\n",
      " hess_inv: array([[1.67932484]])\n",
      "      jac: array([2.38418579e-07])\n",
      "  message: 'Optimization terminated successfully.'\n",
      "     nfev: 21\n",
      "      nit: 6\n",
      "     njev: 7\n",
      "   status: 0\n",
      "  success: True\n",
      "        x: array([25.88019339])\n"
     ]
    }
   ],
   "source": [
    "print(optimize.minimize(f, 30, method='BFGS'))"
   ]
  },
  {
   "cell_type": "markdown",
   "metadata": {},
   "source": [
    "Значение функции в точке минимума 25.88019339 равно -11.898894665981285.   \n",
    "Полученный результат отличается в зависимости от начального приближения, так как мы попадаем в локальные минимумы. Градиентные методы обычно не решают задачу глобальной оптимизации, поэтому результаты работы ожидаемые и вполне корректные."
   ]
  },
  {
   "cell_type": "markdown",
   "metadata": {},
   "source": [
    "## Задача 2. Глобальная оптимизация\n",
    "Теперь попробуем применить к той же функции f(x) метод глобальной оптимизации — дифференциальную эволюцию. \n",
    "\n",
    "Обратим внимание, что границы значений аргументов функции представляют собой список кортежей (list, в который помещены объекты типа tuple). Даже если у нас функция одного аргумента, возьмём границы его значений в квадратные скобки, чтобы передавать в этом параметре список из одного кортежа, т.к. в реализации `scipy.optimize.differential_evolution` длина этого списка используется чтобы определить количество аргументов функции.  \n",
    "\n",
    "Запустим поиск минимума функции f(x) с помощью дифференциальной эволюции на промежутке [1, 30]."
   ]
  },
  {
   "cell_type": "code",
   "execution_count": 23,
   "metadata": {},
   "outputs": [
    {
     "name": "stdout",
     "output_type": "stream",
     "text": [
      "     fun: array([-11.89889467])\n",
      "     jac: array([0.])\n",
      " message: 'Optimization terminated successfully.'\n",
      "    nfev: 83\n",
      "     nit: 4\n",
      " success: True\n",
      "       x: array([25.88019328])\n"
     ]
    }
   ],
   "source": [
    "print(optimize.differential_evolution(f, [(1, 30)]))"
   ]
  },
  {
   "cell_type": "markdown",
   "metadata": {},
   "source": [
    "Значение функции в точке глобального минимума 25.88019248 равно -11.89889467. дифференциальная эволюция справилась с задачей поиска глобального минимума на отрезке, т.к. по своему устройству она предполагает борьбу с попаданием в локальные минимумы.\n",
    "\n",
    "Сравним количество итераций, потребовавшихся BFGS для нахождения минимума при хорошем начальном приближении (nit: 6), с количеством итераций, потребовавшихся дифференциальной эволюции (nit: 4). При повторных запусках дифференциальной эволюции количество итераций будет меняться, но в этом примере, скорее всего, оно всегда будет сравнимым с количеством итераций BFGS. Однако в дифференциальной эволюции за одну итерацию требуется выполнить гораздо больше действий, чем в BFGS. Например, можно обратить внимание на количество вычислений значения функции (nfev) и увидеть, что у BFGS оно значительно меньше. Кроме того, время работы дифференциальной эволюции очень быстро растет с увеличением числа аргументов функции."
   ]
  },
  {
   "cell_type": "markdown",
   "metadata": {},
   "source": [
    "## Задача 3. Минимизация негладкой функции\n",
    "Теперь рассмотрим функцию h(x) = int(f(x)) на том же отрезке [1, 30]. То есть теперь каждое значение f(x) приводится к типу int и функция принимает только целые значения.  \n",
    "Такая функция будет негладкой и даже разрывной, а ее график будет иметь ступенчатый вид. Убедитесь в этом, построив график h(x) с помощью matplotlib."
   ]
  },
  {
   "cell_type": "code",
   "execution_count": 49,
   "metadata": {},
   "outputs": [
    {
     "name": "stdout",
     "output_type": "stream",
     "text": [
      "[3, 2, 2, 2, 2, 2, 1, 1, 1, 1, 1, 1, 1, 1, 1, 1, 1, 1, 1, 2, 2, 2, 2, 2, 2, 2, 2, 2, 2, 2, 2, 2, 2, 2, 2, 2, 2, 2, 2, 2, 2, 1, 1, 1, 1, 1, 1, 0, 0, 0, 0, 0, 0, 0, -1, -1, -1, -2, -2, -3, -3, -3, -4, -4, -5, -5, -6, -6, -6, -7, -7, -8, -8, -9, -9, -9, -10, -10, -10, -11, -11, -11, -11, -11, -11, -11, -11, -11, -11, -11, -11, -10, -10, -9, -9, -8, -8, -7, -6, -5]\n"
     ]
    },
    {
     "data": {
      "image/png": "[encoded data removed]",
      "text/plain": [
       "<Figure size 432x288 with 1 Axes>"
      ]
     },
     "metadata": {
      "needs_background": "light"
     },
     "output_type": "display_data"
    }
   ],
   "source": [
    "def h(x):\n",
    "    return int(f(x))\n",
    "y2 = []\n",
    "for element in a:\n",
    "    y2.append(h(element))\n",
    "print(y2)\n",
    "plt.plot(a, y2)\n",
    "plt.show()"
   ]
  },
  {
   "cell_type": "markdown",
   "metadata": {},
   "source": [
    "Попробуем найти минимум функции h(x) с помощью BFGS, взяв в качестве начального приближения x=30."
   ]
  },
  {
   "cell_type": "code",
   "execution_count": 42,
   "metadata": {},
   "outputs": [
    {
     "name": "stdout",
     "output_type": "stream",
     "text": [
      "      fun: -5\n",
      " hess_inv: array([[1]])\n",
      "      jac: array([0.])\n",
      "  message: 'Optimization terminated successfully.'\n",
      "     nfev: 3\n",
      "      nit: 0\n",
      "     njev: 1\n",
      "   status: 0\n",
      "  success: True\n",
      "        x: array([30.])\n"
     ]
    }
   ],
   "source": [
    "print(optimize.minimize(h, 30, method='BFGS'))"
   ]
  },
  {
   "cell_type": "markdown",
   "metadata": {},
   "source": [
    "Значение функции в точке минимума 30. равно -5.  \n",
    "Теперь попробуем найти минимум h(x) на отрезке [1, 30] с помощью дифференциальной эволюции."
   ]
  },
  {
   "cell_type": "code",
   "execution_count": 43,
   "metadata": {},
   "outputs": [
    {
     "name": "stdout",
     "output_type": "stream",
     "text": [
      "     fun: -11.0\n",
      " message: 'Optimization terminated successfully.'\n",
      "    nfev: 92\n",
      "     nit: 5\n",
      " success: True\n",
      "       x: array([26.58893581])\n"
     ]
    }
   ],
   "source": [
    "print(optimize.differential_evolution(h, [(1, 30)]))"
   ]
  },
  {
   "cell_type": "markdown",
   "metadata": {},
   "source": [
    "Значение функции в точке глобального минимума 26.58893581 равно -11.  \n",
    "\n",
    "Обратим внимание на то, что полученные ответы различаются. Это ожидаемый результат, ведь BFGS использует градиент (в одномерном случае – производную) и явно не пригоден для минимизации рассмотренной нами разрывной функции. Выбор разных начальных приближений даёт понять, почему минимум, найденный BFGS, именно такой. BFGS завершил свою работу на первой же итерации, попав в локальный минимум."
   ]
  }
 ],
 "metadata": {
  "kernelspec": {
   "display_name": "Python 3",
   "language": "python",
   "name": "python3"
  },
  "language_info": {
   "codemirror_mode": {
    "name": "ipython",
    "version": 3
   },
   "file_extension": ".py",
   "mimetype": "text/x-python",
   "name": "python",
   "nbconvert_exporter": "python",
   "pygments_lexer": "ipython3",
   "version": "3.7.6"
  }
 },
 "nbformat": 4,
 "nbformat_minor": 4
}
