{
 "cells": [
  {
   "cell_type": "markdown",
   "metadata": {},
   "source": [
    "## Задача 1. Сравнение предложений.\n",
    "Дан набор предложений. Каждое из них имеет _\"кошачью тему\"_ в одном из трех смыслов:\n",
    "- кошки (животные)\n",
    "- UNIX-утилита cat для вывода содержимого файлов\n",
    "- версии операционной системы OS X, названные в честь семейства кошачьих\n",
    "\n",
    "Найдём два предложения, которые ближе всего по смыслу к расположенному в самой первой строке. В качестве меры близости по смыслу мы будем использовать косинусное расстояние."
   ]
  },
  {
   "cell_type": "code",
   "execution_count": 1,
   "metadata": {},
   "outputs": [
    {
     "name": "stdout",
     "output_type": "stream",
     "text": [
      "In comparison to dogs, cats have not undergone major changes during the domestication process.\n",
      "As cat simply catenates streams of bytes, it can be also used to concatenate binary files, where it will just concatenate sequence of bytes.\n",
      "A common interactive use of cat for a single file is to output the content of a file to standard output.\n",
      "Cats can hear sounds too faint or too high in frequency for human ears, such as those made by mice and other small animals.\n",
      "In one, people deliberately tamed cats in a process of artificial selection, as they were useful predators of vermin.\n",
      "The domesticated cat and its closest wild ancestor are both diploid organisms that possess 38 chromosomes and roughly 20,000 genes.\n",
      "Domestic cats are similar in size to the other members of the genus Felis, typically weighing between 4 and 5 kg (8.8 and 11.0 lb).\n",
      "However, if the output is piped or redirected, cat is unnecessary.\n",
      "cat with one named file is safer where human error is a concern - one wrong use of the default redirection symbol \">\" instead of \"<\" (often adjacent on keyboards) may permanently delete the file you were just needing to read.\n",
      "In terms of legibility, a sequence of commands starting with cat and connected by pipes has a clear left-to-right flow of information.\n",
      "Cat command is one of the basic commands that you learned when you started in the Unix / Linux world.\n",
      "Using cat command, the lines received from stdin can be redirected to a new file using redirection symbols.\n",
      "When you type simply cat command without any arguments, it just receives the stdin content and displays it in the stdout.\n",
      "Leopard was released on October 26, 2007 as the successor of Tiger (version 10.4), and is available in two editions.\n",
      "According to Apple, Leopard contains over 300 changes and enhancements over its predecessor, Mac OS X Tiger.\n",
      "As of Mid 2010, some Apple computers have firmware factory installed which will no longer allow installation of Mac OS X Leopard.\n",
      "Since Apple moved to using Intel processors in their computers, the OSx86 community has developed and now also allows Mac OS X Tiger and later releases to be installed on non-Apple x86-based computers.\n",
      "OS X Mountain Lion was released on July 25, 2012 for purchase and download through Apple's Mac App Store, as part of a switch to releasing OS X versions online and every year.\n",
      "Apple has released a small patch for the three most recent versions of Safari running on OS X Yosemite, Mavericks, and Mountain Lion.\n",
      "The Mountain Lion release marks the second time Apple has offered an incremental upgrade, rather than releasing a new cat entirely.\n",
      "Mac OS X Mountain Lion installs in place, so you won't need to create a separate disk or run the installation off an external drive.\n",
      "The fifth major update to Mac OS X, Leopard, contains such a mountain of features - more than 300 by Apple's count.\n",
      "\n"
     ]
    }
   ],
   "source": [
    "file = open('sentences.txt')\n",
    "print(file.read())"
   ]
  },
  {
   "cell_type": "markdown",
   "metadata": {},
   "source": [
    "Каждая строка в файле соответствует одному предложению. Считаем их, приведём каждую к нижнему регистру с помощью строковой функции `lower()`, удалим в начале и в конце строк символы пробела и перехода на новую строку с помощью строковой функции `strip()`."
   ]
  },
  {
   "cell_type": "code",
   "execution_count": 4,
   "metadata": {},
   "outputs": [
    {
     "name": "stdout",
     "output_type": "stream",
     "text": [
      "[['in comparison to dogs, cats have not undergone major changes during the domestication process.'], ['as cat simply catenates streams of bytes, it can be also used to concatenate binary files, where it will just concatenate sequence of bytes.'], ['a common interactive use of cat for a single file is to output the content of a file to standard output.'], ['cats can hear sounds too faint or too high in frequency for human ears, such as those made by mice and other small animals.']]\n"
     ]
    }
   ],
   "source": [
    "file = open('sentences.txt')\n",
    "\n",
    "text = []\n",
    "for line in file.readlines():\n",
    "    text.append([line.lower().strip()]) # Создаём список из списка предложений (вложенный список)\n",
    "    \n",
    "# Выведем первые 4 элемента\n",
    "print(text[0:4])"
   ]
  },
  {
   "cell_type": "markdown",
   "metadata": {},
   "source": [
    "Произведём токенизацию предложений, то есть разбиение текстов на слова. Для этого воспользуемся регулярным выражением, которое считает разделителем любой символ, не являющийся буквой: `re.split('[^a-z]', t)`."
   ]
  },
  {
   "cell_type": "code",
   "execution_count": 15,
   "metadata": {},
   "outputs": [
    {
     "name": "stdout",
     "output_type": "stream",
     "text": [
      "[['in', 'comparison', 'to', 'dogs', 'cats', 'have', 'not', 'undergone', 'major', 'changes', 'during', 'the', 'domestication', 'process'], ['as', 'cat', 'simply', 'catenates', 'streams', 'of', 'bytes', 'it', 'can', 'be', 'also', 'used', 'to', 'concatenate', 'binary', 'files', 'where', 'it', 'will', 'just', 'concatenate', 'sequence', 'of', 'bytes'], ['a', 'common', 'interactive', 'use', 'of', 'cat', 'for', 'a', 'single', 'file', 'is', 'to', 'output', 'the', 'content', 'of', 'a', 'file', 'to', 'standard', 'output'], ['cats', 'can', 'hear', 'sounds', 'too', 'faint', 'or', 'too', 'high', 'in', 'frequency', 'for', 'human', 'ears', 'such', 'as', 'those', 'made', 'by', 'mice', 'and', 'other', 'small', 'animals']]\n"
     ]
    }
   ],
   "source": [
    "import re\n",
    "\n",
    "tokens = []\n",
    "for element in text:\n",
    "    for sentence in element:\n",
    "        tokens.append(re.split('[^a-z]+', sentence))\n",
    "\n",
    "# Удалим пропуски (пустые слова)\n",
    "for element in tokens:\n",
    "    element.remove('')\n",
    "\n",
    "# Выведем первые 4 элемента\n",
    "print(tokens[0:4])"
   ]
  },
  {
   "cell_type": "markdown",
   "metadata": {},
   "source": [
    "В итоге мы получили список из списков слов в каждом предложении.\n",
    "\n",
    "Далее создадим другой список  - список всех **уникальных** слов, встречающихся в предложениях. Для этого воспользуемся структурой dict.  \n",
    "Сопоставим каждому слову индекс от нуля до (d-1), где d — число различных слов в предложениях."
   ]
  },
  {
   "cell_type": "code",
   "execution_count": 46,
   "metadata": {},
   "outputs": [
    {
     "name": "stdout",
     "output_type": "stream",
     "text": [
      "{'in': 0, 'comparison': 1, 'to': 2, 'dogs': 3, 'cats': 4, 'have': 5, 'not': 6, 'undergone': 7, 'major': 8, 'changes': 9, 'during': 10, 'the': 11, 'domestication': 12, 'process': 13, 'as': 14, 'cat': 15, 'simply': 16, 'catenates': 17, 'streams': 18, 'of': 19, 'bytes': 20, 'it': 21, 'can': 22, 'be': 23, 'also': 24, 'used': 25, 'concatenate': 26, 'binary': 27, 'files': 28, 'where': 29, 'will': 30, 'just': 31, 'sequence': 32, 'a': 33, 'common': 34, 'interactive': 35, 'use': 36, 'for': 37, 'single': 38, 'file': 39, 'is': 40, 'output': 41, 'content': 42, 'standard': 43, 'hear': 44, 'sounds': 45, 'too': 46, 'faint': 47, 'or': 48, 'high': 49, 'frequency': 50, 'human': 51, 'ears': 52, 'such': 53, 'those': 54, 'made': 55, 'by': 56, 'mice': 57, 'and': 58, 'other': 59, 'small': 60, 'animals': 61, 'one': 62, 'people': 63, 'deliberately': 64, 'tamed': 65, 'artificial': 66, 'selection': 67, 'they': 68, 'were': 69, 'useful': 70, 'predators': 71, 'vermin': 72, 'domesticated': 73, 'its': 74, 'closest': 75, 'wild': 76, 'ancestor': 77, 'are': 78, 'both': 79, 'diploid': 80, 'organisms': 81, 'that': 82, 'possess': 83, 'chromosomes': 84, 'roughly': 85, 'genes': 86, 'domestic': 87, 'similar': 88, 'size': 89, 'members': 90, 'genus': 91, 'felis': 92, 'typically': 93, 'weighing': 94, 'between': 95, 'kg': 96, 'lb': 97, 'however': 98, 'if': 99, 'piped': 100, 'redirected': 101, 'unnecessary': 102, 'with': 103, 'named': 104, 'safer': 105, 'error': 106, 'concern': 107, 'wrong': 108, 'default': 109, 'redirection': 110, 'symbol': 111, 'instead': 112, 'often': 113, 'adjacent': 114, 'on': 115, 'keyboards': 116, 'may': 117, 'permanently': 118, 'delete': 119, 'you': 120, 'needing': 121, 'read': 122, 'terms': 123, 'legibility': 124, 'commands': 125, 'starting': 126, 'connected': 127, 'pipes': 128, 'has': 129, 'clear': 130, 'left': 131, 'right': 132, 'flow': 133, 'information': 134, 'command': 135, 'basic': 136, 'learned': 137, 'when': 138, 'started': 139, 'unix': 140, 'linux': 141, 'world': 142, 'using': 143, 'lines': 144, 'received': 145, 'from': 146, 'stdin': 147, 'new': 148, 'symbols': 149, 'type': 150, 'without': 151, 'any': 152, 'arguments': 153, 'receives': 154, 'displays': 155, 'stdout': 156, 'leopard': 157, 'was': 158, 'released': 159, 'october': 160, 'successor': 161, 'tiger': 162, 'version': 163, 'available': 164, 'two': 165, 'editions': 166, 'according': 167, 'apple': 168, 'contains': 169, 'over': 170, 'enhancements': 171, 'predecessor': 172, 'mac': 173, 'os': 174, 'x': 175, 'mid': 176, 'some': 177, 'computers': 178, 'firmware': 179, 'factory': 180, 'installed': 181, 'which': 182, 'no': 183, 'longer': 184, 'allow': 185, 'installation': 186, 'since': 187, 'moved': 188, 'intel': 189, 'processors': 190, 'their': 191, 'osx': 192, 'community': 193, 'developed': 194, 'now': 195, 'allows': 196, 'later': 197, 'releases': 198, 'non': 199, 'based': 200, 'mountain': 201, 'lion': 202, 'july': 203, 'purchase': 204, 'download': 205, 'through': 206, 's': 207, 'app': 208, 'store': 209, 'part': 210, 'switch': 211, 'releasing': 212, 'versions': 213, 'online': 214, 'every': 215, 'year': 216, 'patch': 217, 'three': 218, 'most': 219, 'recent': 220, 'safari': 221, 'running': 222, 'yosemite': 223, 'mavericks': 224, 'release': 225, 'marks': 226, 'second': 227, 'time': 228, 'offered': 229, 'an': 230, 'incremental': 231, 'upgrade': 232, 'rather': 233, 'than': 234, 'entirely': 235, 'installs': 236, 'place': 237, 'so': 238, 'won': 239, 't': 240, 'need': 241, 'create': 242, 'separate': 243, 'disk': 244, 'run': 245, 'off': 246, 'external': 247, 'drive': 248, 'fifth': 249, 'update': 250, 'features': 251, 'more': 252, 'count': 253} \n",
      "\n",
      "Количество уникальных слов в тексте равно 254\n"
     ]
    }
   ],
   "source": [
    "word_dict = {}\n",
    "counter = 0\n",
    "for word_list in tokens:\n",
    "    for word in word_list:\n",
    "        if word not in word_dict:\n",
    "            word_dict[word] = counter # Ключами словаря являются уникальные слова, \n",
    "            # каждому их которых присвоен порядковый номер\n",
    "            counter += 1\n",
    "\n",
    "print(word_dict, '\\n\\nКоличество уникальных слов в тексте равно %d' % (len(word_dict)))"
   ]
  },
  {
   "cell_type": "markdown",
   "metadata": {},
   "source": [
    "Создадим матрицу размера n х d, где n — число предложений, d - количество уникальных слов. Заполним её: элемент с индексом (i,j) в этой матрице должен быть равен количеству вхождений j-го слова в i-е предложение."
   ]
  },
  {
   "cell_type": "code",
   "execution_count": 43,
   "metadata": {},
   "outputs": [
    {
     "name": "stdout",
     "output_type": "stream",
     "text": [
      "Итоговая матрица получилась размером 22 х 254\n"
     ]
    }
   ],
   "source": [
    "# Создадим фукцию для подсчёта количества вхождений слова в список слов\n",
    "def word_counter(word, wordlist):\n",
    "    counter = 0\n",
    "    for element in wordlist:\n",
    "        if word == element:\n",
    "            counter += 1\n",
    "    return counter\n",
    "\n",
    "# Создадим матрицу\n",
    "total_word_appearance_matrix = []\n",
    "for element in tokens:\n",
    "    counter = 0\n",
    "    word_appearance_in_sentence = []\n",
    "    for word in word_dict:\n",
    "        word_appearance_in_sentence.append(word_counter(word, element))\n",
    "    total_word_appearance_matrix.append(word_appearance_in_sentence)\n",
    "\n",
    "print('Итоговая матрица получилась размером %d х %d' % (len(total_word_appearance_matrix), \n",
    "                                                        len(total_word_appearance_matrix[1])))"
   ]
  },
  {
   "cell_type": "markdown",
   "metadata": {},
   "source": [
    "Найдём косинусное расстояние от предложения в самой первой строке до всех остальных с помощью функции `scipy.spatial.distance.cosine`."
   ]
  },
  {
   "cell_type": "code",
   "execution_count": 44,
   "metadata": {},
   "outputs": [
    {
     "name": "stdout",
     "output_type": "stream",
     "text": [
      "Косинусное расстояние: [0.0, 0.9527544408738466, 0.8644738145642124, 0.8951715163278082, 0.7770887149698589, 0.9402385695332803, 0.7327387580875756, 0.9258750683338899, 0.8842724875284311, 0.9055088817476932, 0.8328165362273942, 0.8804771390665607, 0.8396432548525454, 0.8703592552895671, 0.8740118423302576, 0.9442721787424647, 0.8406361854220809, 0.956644501523794, 0.9442721787424647, 0.8885443574849294, 0.8427572744917122, 0.8250364469440588]\n"
     ]
    }
   ],
   "source": [
    "from scipy.spatial import distance\n",
    "counter_2 = 0\n",
    "dist = []\n",
    "while counter_2 < len(total_word_appearance_matrix):\n",
    "    dist.append(distance.cosine(total_word_appearance_matrix[0], total_word_appearance_matrix[counter_2]))\n",
    "    counter_2 += 1\n",
    "\n",
    "print('Косинусное расстояние:', dist)"
   ]
  },
  {
   "cell_type": "markdown",
   "metadata": {},
   "source": [
    "Выберем два предложения, ближайших к первому, по полученному расстоянию, и найдём индексы этих предложений."
   ]
  },
  {
   "cell_type": "code",
   "execution_count": 47,
   "metadata": {},
   "outputs": [
    {
     "name": "stdout",
     "output_type": "stream",
     "text": [
      "Ближе всего по смыслу к первому предложению предложения с индексами: [0, 6, 4]\n"
     ]
    }
   ],
   "source": [
    "# Создадим функцию для вывода индексов трёх минимальных значений из списка\n",
    "def index_search_of_3_min_values(list_of_value):\n",
    "    new_list = sorted(list_of_value)\n",
    "    result = [list_of_value.index(new_list[0]), list_of_value.index(new_list[1]), list_of_value.index(new_list[2])]\n",
    "    return result\n",
    "\n",
    "print('Ближе всего по смыслу к первому предложению предложения с индексами:', index_search_of_3_min_values(dist))"
   ]
  },
  {
   "cell_type": "code",
   "execution_count": 48,
   "metadata": {},
   "outputs": [],
   "source": [
    "file.close()"
   ]
  },
  {
   "cell_type": "markdown",
   "metadata": {},
   "source": [
    "Ближайшие к первому два предложения имеют индексы 6 и 4. И правда, их тематики совпадают.  \n",
    "Хочется отметить, что использованный метод сравнения предложений крайне простой. Например, он не учитывает формы слов (так, cat и cats он считает разными словами, хотя по сути они означают одно и то же), не удаляет из текстов артикли и прочие ненужные слова."
   ]
  }
 ],
 "metadata": {
  "kernelspec": {
   "display_name": "Python 3",
   "language": "python",
   "name": "python3"
  },
  "language_info": {
   "codemirror_mode": {
    "name": "ipython",
    "version": 3
   },
   "file_extension": ".py",
   "mimetype": "text/x-python",
   "name": "python",
   "nbconvert_exporter": "python",
   "pygments_lexer": "ipython3",
   "version": "3.7.6"
  }
 },
 "nbformat": 4,
 "nbformat_minor": 4
}
