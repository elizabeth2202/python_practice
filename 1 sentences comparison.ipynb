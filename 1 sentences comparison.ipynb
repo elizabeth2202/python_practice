{
 "cells": [
  {
   "cell_type": "markdown",
   "metadata": {},
   "source": [
    "## Задача 1. Сравнение предложений.\n",
    "Дан набор предложений. Каждое из них имеет _\"кошачью тему\"_ в одном из трех смыслов:\n",
    "- кошки (животные)\n",
    "- UNIX-утилита cat для вывода содержимого файлов\n",
    "- версии операционной системы OS X, названные в честь семейства кошачьих\n",
    "\n",
    "Найдём два предложения, которые ближе всего по смыслу к расположенному в самой первой строке. В качестве меры близости по смыслу мы будем использовать косинусное расстояние."
   ]
  },
  {
   "cell_type": "code",
   "execution_count": 9,
   "metadata": {},
   "outputs": [
    {
     "name": "stdout",
     "output_type": "stream",
     "text": [
      "In comparison to dogs, cats have not undergone major changes during the domestication process.\n",
      "As cat simply catenates streams of bytes, it can be also used to concatenate binary files, where it will just concatenate sequence of bytes.\n",
      "A common interactive use of cat for a single file is to output the content of a file to standard output.\n",
      "Cats can hear sounds too faint or too high in frequency for human ears, such as those made by mice and other small animals.\n",
      "In one, people deliberately tamed cats in a process of artificial selection, as they were useful predators of vermin.\n",
      "The domesticated cat and its closest wild ancestor are both diploid organisms that possess 38 chromosomes and roughly 20,000 genes.\n",
      "Domestic cats are similar in size to the other members of the genus Felis, typically weighing between 4 and 5 kg (8.8 and 11.0 lb).\n",
      "However, if the output is piped or redirected, cat is unnecessary.\n",
      "cat with one named file is safer where human error is a concern - one wrong use of the default redirection symbol \">\" instead of \"<\" (often adjacent on keyboards) may permanently delete the file you were just needing to read.\n",
      "In terms of legibility, a sequence of commands starting with cat and connected by pipes has a clear left-to-right flow of information.\n",
      "Cat command is one of the basic commands that you learned when you started in the Unix / Linux world.\n",
      "Using cat command, the lines received from stdin can be redirected to a new file using redirection symbols.\n",
      "When you type simply cat command without any arguments, it just receives the stdin content and displays it in the stdout.\n",
      "Leopard was released on October 26, 2007 as the successor of Tiger (version 10.4), and is available in two editions.\n",
      "According to Apple, Leopard contains over 300 changes and enhancements over its predecessor, Mac OS X Tiger.\n",
      "As of Mid 2010, some Apple computers have firmware factory installed which will no longer allow installation of Mac OS X Leopard.\n",
      "Since Apple moved to using Intel processors in their computers, the OSx86 community has developed and now also allows Mac OS X Tiger and later releases to be installed on non-Apple x86-based computers.\n",
      "OS X Mountain Lion was released on July 25, 2012 for purchase and download through Apple's Mac App Store, as part of a switch to releasing OS X versions online and every year.\n",
      "Apple has released a small patch for the three most recent versions of Safari running on OS X Yosemite, Mavericks, and Mountain Lion.\n",
      "The Mountain Lion release marks the second time Apple has offered an incremental upgrade, rather than releasing a new cat entirely.\n",
      "Mac OS X Mountain Lion installs in place, so you won't need to create a separate disk or run the installation off an external drive.\n",
      "The fifth major update to Mac OS X, Leopard, contains such a mountain of features - more than 300 by Apple's count.\n",
      "\n"
     ]
    }
   ],
   "source": [
    "file = open('sentences.txt')\n",
    "print(file.read())"
   ]
  },
  {
   "cell_type": "markdown",
   "metadata": {},
   "source": [
    "Каждая строка в файле соответствует одному предложению. Считаем их, приведём каждую к нижнему регистру с помощью строковой функции `lower()`, удалим в начале и в конце строк символы пробела и перехода на новую строку с помощью строковой функции `strip()`."
   ]
  },
  {
   "cell_type": "code",
   "execution_count": 1,
   "metadata": {},
   "outputs": [
    {
     "name": "stdout",
     "output_type": "stream",
     "text": [
      "[['in comparison to dogs, cats have not undergone major changes during the domestication process.'], ['as cat simply catenates streams of bytes, it can be also used to concatenate binary files, where it will just concatenate sequence of bytes.'], ['a common interactive use of cat for a single file is to output the content of a file to standard output.']]\n"
     ]
    }
   ],
   "source": [
    "file = open('sentences.txt')\n",
    "\n",
    "text = []\n",
    "for line in file.readlines():\n",
    "    text.append([line.lower().strip()]) # Создаём список из списка предложений (список списков)\n",
    "    \n",
    "# Выведем первые 4 элемента\n",
    "print(text[0:3])"
   ]
  },
  {
   "cell_type": "markdown",
   "metadata": {},
   "source": [
    "Произведём токенизацию предложений, то есть разбиение текстов на слова. Для этого воспользуемся регулярным выражением, которое считает разделителем любой символ, не являющийся буквой: `re.split('[^a-z]', t)`."
   ]
  },
  {
   "cell_type": "code",
   "execution_count": 4,
   "metadata": {},
   "outputs": [
    {
     "name": "stdout",
     "output_type": "stream",
     "text": [
      "[['in', 'comparison', 'to', 'dogs', 'cats', 'have', 'not', 'undergone', 'major', 'changes', 'during', 'the', 'domestication', 'process'], ['as', 'cat', 'simply', 'catenates', 'streams', 'of', 'bytes', 'it', 'can', 'be', 'also', 'used', 'to', 'concatenate', 'binary', 'files', 'where', 'it', 'will', 'just', 'concatenate', 'sequence', 'of', 'bytes'], ['a', 'common', 'interactive', 'use', 'of', 'cat', 'for', 'a', 'single', 'file', 'is', 'to', 'output', 'the', 'content', 'of', 'a', 'file', 'to', 'standard', 'output']]\n"
     ]
    }
   ],
   "source": [
    "import re\n",
    "\n",
    "tokens = []\n",
    "for element in text:\n",
    "    for sentence in element:\n",
    "        tokens.append(re.split('[^a-z]+', sentence))\n",
    "\n",
    "# Удалим пропуски (пустые слова)\n",
    "for element in tokens:\n",
    "    element.remove('')\n",
    "\n",
    "# Выведем первые 4 элемента\n",
    "print(tokens[0:3])"
   ]
  },
  {
   "cell_type": "markdown",
   "metadata": {},
   "source": [
    "В итоге мы получили список из списков слов в каждом предложении.\n",
    "\n",
    "Далее создадим другой список  - список всех **уникальных** слов, встречающихся в предложениях. Для этого воспользуемся структурой dict.  \n",
    "Сопоставим каждому слову индекс от нуля до (d-1), где d — число различных слов в предложениях."
   ]
  },
  {
   "cell_type": "code",
   "execution_count": 5,
   "metadata": {},
   "outputs": [
    {
     "name": "stdout",
     "output_type": "stream",
     "text": [
      "{0: 'in', 1: 'comparison', 2: 'to', 3: 'dogs', 4: 'cats', 5: 'have', 6: 'not', 7: 'undergone', 8: 'major', 9: 'changes', 10: 'during', 11: 'the', 12: 'domestication', 13: 'process', 14: 'as', 15: 'cat', 16: 'simply', 17: 'catenates', 18: 'streams', 19: 'of', 20: 'bytes', 21: 'it', 22: 'can', 23: 'be', 24: 'also', 25: 'used', 26: 'concatenate', 27: 'binary', 28: 'files', 29: 'where', 30: 'will', 31: 'just', 32: 'sequence', 33: 'a', 34: 'common', 35: 'interactive', 36: 'use', 37: 'for', 38: 'single', 39: 'file', 40: 'is', 41: 'output', 42: 'content', 43: 'standard', 44: 'hear', 45: 'sounds', 46: 'too', 47: 'faint', 48: 'or', 49: 'high', 50: 'frequency', 51: 'human', 52: 'ears', 53: 'such', 54: 'those', 55: 'made', 56: 'by', 57: 'mice', 58: 'and', 59: 'other', 60: 'small', 61: 'animals', 62: 'one', 63: 'people', 64: 'deliberately', 65: 'tamed', 66: 'artificial', 67: 'selection', 68: 'they', 69: 'were', 70: 'useful', 71: 'predators', 72: 'vermin', 73: 'domesticated', 74: 'its', 75: 'closest', 76: 'wild', 77: 'ancestor', 78: 'are', 79: 'both', 80: 'diploid', 81: 'organisms', 82: 'that', 83: 'possess', 84: 'chromosomes', 85: 'roughly', 86: 'genes', 87: 'domestic', 88: 'similar', 89: 'size', 90: 'members', 91: 'genus', 92: 'felis', 93: 'typically', 94: 'weighing', 95: 'between', 96: 'kg', 97: 'lb', 98: 'however', 99: 'if', 100: 'piped', 101: 'redirected', 102: 'unnecessary', 103: 'with', 104: 'named', 105: 'safer', 106: 'error', 107: 'concern', 108: 'wrong', 109: 'default', 110: 'redirection', 111: 'symbol', 112: 'instead', 113: 'often', 114: 'adjacent', 115: 'on', 116: 'keyboards', 117: 'may', 118: 'permanently', 119: 'delete', 120: 'you', 121: 'needing', 122: 'read', 123: 'terms', 124: 'legibility', 125: 'commands', 126: 'starting', 127: 'connected', 128: 'pipes', 129: 'has', 130: 'clear', 131: 'left', 132: 'right', 133: 'flow', 134: 'information', 135: 'command', 136: 'basic', 137: 'learned', 138: 'when', 139: 'started', 140: 'unix', 141: 'linux', 142: 'world', 143: 'using', 144: 'lines', 145: 'received', 146: 'from', 147: 'stdin', 148: 'new', 149: 'symbols', 150: 'type', 151: 'without', 152: 'any', 153: 'arguments', 154: 'receives', 155: 'displays', 156: 'stdout', 157: 'leopard', 158: 'was', 159: 'released', 160: 'october', 161: 'successor', 162: 'tiger', 163: 'version', 164: 'available', 165: 'two', 166: 'editions', 167: 'according', 168: 'apple', 169: 'contains', 170: 'over', 171: 'enhancements', 172: 'predecessor', 173: 'mac', 174: 'os', 175: 'x', 176: 'mid', 177: 'some', 178: 'computers', 179: 'firmware', 180: 'factory', 181: 'installed', 182: 'which', 183: 'no', 184: 'longer', 185: 'allow', 186: 'installation', 187: 'since', 188: 'moved', 189: 'intel', 190: 'processors', 191: 'their', 192: 'osx', 193: 'community', 194: 'developed', 195: 'now', 196: 'allows', 197: 'later', 198: 'releases', 199: 'non', 200: 'based', 201: 'mountain', 202: 'lion', 203: 'july', 204: 'purchase', 205: 'download', 206: 'through', 207: 's', 208: 'app', 209: 'store', 210: 'part', 211: 'switch', 212: 'releasing', 213: 'versions', 214: 'online', 215: 'every', 216: 'year', 217: 'patch', 218: 'three', 219: 'most', 220: 'recent', 221: 'safari', 222: 'running', 223: 'yosemite', 224: 'mavericks', 225: 'release', 226: 'marks', 227: 'second', 228: 'time', 229: 'offered', 230: 'an', 231: 'incremental', 232: 'upgrade', 233: 'rather', 234: 'than', 235: 'entirely', 236: 'installs', 237: 'place', 238: 'so', 239: 'won', 240: 't', 241: 'need', 242: 'create', 243: 'separate', 244: 'disk', 245: 'run', 246: 'off', 247: 'external', 248: 'drive', 249: 'fifth', 250: 'update', 251: 'features', 252: 'more', 253: 'count'} \n",
      "\n",
      "Количество уникальных слов в тексте равно 254\n"
     ]
    }
   ],
   "source": [
    "word_dict = {}\n",
    "count = 0\n",
    "for word_list in tokens:\n",
    "    for word in word_list:\n",
    "        if word not in word_dict:\n",
    "            word_dict[word] = count # Ключами словаря являются уникальные слова, \n",
    "            # каждому их которых присвоен порядковый номер\n",
    "            count += 1\n",
    "\n",
    "word_dict_result = {}\n",
    "count2 = 0\n",
    "for key in word_dict:\n",
    "    word_dict_result[count2] = key # Установили в качестве ключей уникальные номера, \n",
    "    # а в качестве значений - уникальные слова\n",
    "    count2 += 1\n",
    "\n",
    "print(word_dict_result, '\\n\\nКоличество уникальных слов в тексте равно %d' % (len(word_dict_result)))"
   ]
  },
  {
   "cell_type": "markdown",
   "metadata": {},
   "source": [
    "Создадим матрицу размера n х d, где n — число предложений, d - количество уникаьных слов. Заполним её: элемент с индексом (i,j) в этой матрице должен быть равен количеству вхождений j-го слова в i-е предложение."
   ]
  },
  {
   "cell_type": "code",
   "execution_count": 7,
   "metadata": {},
   "outputs": [
    {
     "name": "stdout",
     "output_type": "stream",
     "text": [
      "Итоговая матрица получилась размером 22 х 254\n"
     ]
    }
   ],
   "source": [
    "# Создадим фукцию для подсчёта количества вхождений слова в список слов.\n",
    "def word_counter(word, wordlist):\n",
    "    count = 0\n",
    "    for element in wordlist:\n",
    "        if word == element:\n",
    "            count += 1\n",
    "    return count\n",
    "\n",
    "total_word_quantity = []\n",
    "for element in tokens:\n",
    "    count = 0\n",
    "    word_quantity_in_sentence = []\n",
    "    while count < len(word_dict_result):\n",
    "        word_quantity_in_sentence.append(word_counter(word_dict_result[count], element))\n",
    "        count += 1\n",
    "    total_word_quantity.append(word_quantity_in_sentence)\n",
    "\n",
    "print('Итоговая матрица получилась размером %d х %d' % (len(total_word_quantity), len(total_word_quantity[1])))"
   ]
  },
  {
   "cell_type": "markdown",
   "metadata": {},
   "source": [
    "Найдём косинусное расстояние от предложения в самой первой строке до всех остальных с помощью функции `scipy.spatial.distance.cosine`."
   ]
  },
  {
   "cell_type": "code",
   "execution_count": 8,
   "metadata": {},
   "outputs": [
    {
     "name": "stdout",
     "output_type": "stream",
     "text": [
      "Косинусное расстояние: [0.0, 0.9527544408738466, 0.8644738145642124, 0.8951715163278082, 0.7770887149698589, 0.9402385695332803, 0.7327387580875756, 0.9258750683338899, 0.8842724875284311, 0.9055088817476932, 0.8328165362273942, 0.8804771390665607, 0.8396432548525454, 0.8703592552895671, 0.8740118423302576, 0.9442721787424647, 0.8406361854220809, 0.956644501523794, 0.9442721787424647, 0.8885443574849294, 0.8427572744917122, 0.8250364469440588]\n"
     ]
    }
   ],
   "source": [
    "from scipy.spatial import distance\n",
    "count3 = 0\n",
    "dist = []\n",
    "while count3 < len(total_word_quantity):\n",
    "    dist.append(distance.cosine(total_word_quantity[0], total_word_quantity[count3]))\n",
    "    count3 += 1\n",
    "print('Косинусное расстояние:', dist)"
   ]
  },
  {
   "cell_type": "markdown",
   "metadata": {},
   "source": [
    "Выберем два предложения, ближайших к первому, по полученному расстоянию, и найдём индексы этих предложений."
   ]
  },
  {
   "cell_type": "code",
   "execution_count": 9,
   "metadata": {},
   "outputs": [
    {
     "name": "stdout",
     "output_type": "stream",
     "text": [
      "Ближе всего по смыслу к первому предложению предложения с индексами: [0, 6, 4]\n"
     ]
    }
   ],
   "source": [
    "# Создадим функцию для вывода индексов трёх минимальных значений из списка\n",
    "def three_min_index_search(list_of_value):\n",
    "    new_list = sorted(list_of_value)\n",
    "    result = [list_of_value.index(new_list[0]), list_of_value.index(new_list[1]), list_of_value.index(new_list[2])]\n",
    "    return result\n",
    "print('Ближе всего по смыслу к первому предложению предложения с индексами:', three_min_index_search(dist))"
   ]
  },
  {
   "cell_type": "code",
   "execution_count": 10,
   "metadata": {},
   "outputs": [],
   "source": [
    "file.close()"
   ]
  },
  {
   "cell_type": "markdown",
   "metadata": {},
   "source": [
    "Ближайшие к первому два предложения имеют индексы 6 и 4. И правда, их тематики совпадают.  \n",
    "Хочется отметить, что использованный метод сравнения предложений крайне простой. Например, он не учитывает формы слов (так, cat и cats он считает разными словами, хотя по сути они означают одно и то же), не удаляет из текстов артикли и прочие ненужные слова."
   ]
  }
 ],
 "metadata": {
  "kernelspec": {
   "display_name": "Python 3",
   "language": "python",
   "name": "python3"
  },
  "language_info": {
   "codemirror_mode": {
    "name": "ipython",
    "version": 3
   },
   "file_extension": ".py",
   "mimetype": "text/x-python",
   "name": "python",
   "nbconvert_exporter": "python",
   "pygments_lexer": "ipython3",
   "version": "3.7.6"
  }
 },
 "nbformat": 4,
 "nbformat_minor": 4
}
